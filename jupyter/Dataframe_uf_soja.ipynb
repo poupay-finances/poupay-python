{
 "cells": [
  {
   "cell_type": "code",
   "execution_count": 4,
   "id": "c0ae77d8",
   "metadata": {
    "scrolled": false
   },
   "outputs": [
    {
     "name": "stderr",
     "output_type": "stream",
     "text": [
      "WARNING:root:'PYARROW_IGNORE_TIMEZONE' environment variable was not set. It is required to set this environment variable to '1' in both driver and executor sides if you use pyarrow>=2.0.0. pandas-on-Spark will set it for you but it does not work if there is a Spark context already launched.\n",
      "WARNING: An illegal reflective access operation has occurred\n",
      "WARNING: Illegal reflective access by org.apache.spark.unsafe.Platform (file:/usr/local/lib/python3.7/site-packages/pyspark/jars/spark-unsafe_2.12-3.2.1.jar) to constructor java.nio.DirectByteBuffer(long,int)\n",
      "WARNING: Please consider reporting this to the maintainers of org.apache.spark.unsafe.Platform\n",
      "WARNING: Use --illegal-access=warn to enable warnings of further illegal reflective access operations\n",
      "WARNING: All illegal access operations will be denied in a future release\n"
     ]
    },
    {
     "name": "stdout",
     "output_type": "stream",
     "text": [
      ":: loading settings :: url = jar:file:/usr/local/lib/python3.7/site-packages/pyspark/jars/ivy-2.5.0.jar!/org/apache/ivy/core/settings/ivysettings.xml\n"
     ]
    },
    {
     "name": "stderr",
     "output_type": "stream",
     "text": [
      "Ivy Default Cache set to: /root/.ivy2/cache\n",
      "The jars for the packages stored in: /root/.ivy2/jars\n",
      "org.apache.hadoop#hadoop-aws added as a dependency\n",
      "com.microsoft.azure#spark-mssql-connector_2.12 added as a dependency\n",
      ":: resolving dependencies :: org.apache.spark#spark-submit-parent-bab08850-6eb2-414e-801e-1c78488e3a90;1.0\n",
      "\tconfs: [default]\n",
      "\tfound org.apache.hadoop#hadoop-aws;3.2.2 in central\n",
      "\tfound com.amazonaws#aws-java-sdk-bundle;1.11.563 in central\n",
      "\tfound com.microsoft.azure#spark-mssql-connector_2.12;1.2.0 in central\n",
      "\tfound com.microsoft.sqlserver#mssql-jdbc;8.4.1.jre8 in central\n",
      ":: resolution report :: resolve 639ms :: artifacts dl 28ms\n",
      "\t:: modules in use:\n",
      "\tcom.amazonaws#aws-java-sdk-bundle;1.11.563 from central in [default]\n",
      "\tcom.microsoft.azure#spark-mssql-connector_2.12;1.2.0 from central in [default]\n",
      "\tcom.microsoft.sqlserver#mssql-jdbc;8.4.1.jre8 from central in [default]\n",
      "\torg.apache.hadoop#hadoop-aws;3.2.2 from central in [default]\n",
      "\t---------------------------------------------------------------------\n",
      "\t|                  |            modules            ||   artifacts   |\n",
      "\t|       conf       | number| search|dwnlded|evicted|| number|dwnlded|\n",
      "\t---------------------------------------------------------------------\n",
      "\t|      default     |   4   |   0   |   0   |   0   ||   4   |   0   |\n",
      "\t---------------------------------------------------------------------\n",
      ":: retrieving :: org.apache.spark#spark-submit-parent-bab08850-6eb2-414e-801e-1c78488e3a90\n",
      "\tconfs: [default]\n",
      "\t0 artifacts copied, 4 already retrieved (0kB/25ms)\n",
      "22/05/31 00:51:37 WARN NativeCodeLoader: Unable to load native-hadoop library for your platform... using builtin-java classes where applicable\n",
      "Using Spark's default log4j profile: org/apache/spark/log4j-defaults.properties\n",
      "Setting default log level to \"WARN\".\n",
      "To adjust logging level use sc.setLogLevel(newLevel). For SparkR, use setLogLevel(newLevel).\n",
      "22/05/31 00:51:40 WARN Utils: Service 'SparkUI' could not bind on port 4040. Attempting port 4041.\n"
     ]
    }
   ],
   "source": [
    "#iniciar spark\n",
    "from pyspark import SparkConf\n",
    "from pyspark.sql import SparkSession\n",
    "import pyspark.pandas as ps\n",
    "import pandas as pd\n",
    "\n",
    "conf = SparkConf()\n",
    "#conf.set('spark.jars.packages', 'org.apache.hadoop:hadoop-aws:3.2.2')\n",
    "conf.set('spark.jars.packages', 'org.apache.hadoop:hadoop-aws:3.2.2,com.microsoft.azure:spark-mssql-connector_2.12:1.2.0')\n",
    "conf.set('spark.hadoop.fs.s3a.aws.credentials.provider', 'com.amazonaws.auth.InstanceProfileCredentialsProvider')\n",
    "spark = SparkSession.builder.config(conf=conf).getOrCreate()"
   ]
  },
  {
   "cell_type": "code",
   "execution_count": 5,
   "id": "8470b9c3",
   "metadata": {},
   "outputs": [
    {
     "name": "stdout",
     "output_type": "stream",
     "text": [
      "env: S3ADRESS=s3a://daniel-3cco-poupay-poupay-bucket-estruturados\n",
      "env: PASSWORD_SQL=PASSWORD\n",
      "env: USER_SQL=USER\n"
     ]
    }
   ],
   "source": [
    "%env S3ADRESS=url\n",
    "%env PASSWORD_SQL=PASSWORD\n",
    "%env USER_SQL=USER"
   ]
  },
  {
   "cell_type": "code",
   "execution_count": 6,
   "id": "a7fe82c4",
   "metadata": {},
   "outputs": [],
   "source": [
    "import os\n",
    "\n",
    "S3_address = os.environ['S3ADRESS']\n",
    "password_sql = os.environ['PASSWORD_SQL']\n",
    "user_sql = os.environ['USER_SQL']"
   ]
  },
  {
   "cell_type": "code",
   "execution_count": 8,
   "id": "0cd4c1a2",
   "metadata": {},
   "outputs": [
    {
     "name": "stderr",
     "output_type": "stream",
     "text": [
      "22/05/31 00:52:41 WARN MetricsConfig: Cannot locate configuration: tried hadoop-metrics2-s3a-file-system.properties,hadoop-metrics2.properties\n",
      "                                                                                \r"
     ]
    }
   ],
   "source": [
    "df_unidade_federativa = spark.read.option(\"multiline\",\"true\")\\\n",
    "                        .json(f\"{S3_address}/dados-brutos/estados_soja_1974_2020.json\")\\\n",
    "                        .toPandas()\n",
    "df_regiao = spark.read.option('delimiter', ',')\\\n",
    "    .option('header', 'true').csv(f\"{S3_address}/dados-brutos/estados.csv\")\\\n",
    "    .toPandas()"
   ]
  },
  {
   "cell_type": "code",
   "execution_count": 10,
   "id": "4a6a9265",
   "metadata": {},
   "outputs": [
    {
     "data": {
      "text/html": [
       "<div>\n",
       "<style scoped>\n",
       "    .dataframe tbody tr th:only-of-type {\n",
       "        vertical-align: middle;\n",
       "    }\n",
       "\n",
       "    .dataframe tbody tr th {\n",
       "        vertical-align: top;\n",
       "    }\n",
       "\n",
       "    .dataframe thead th {\n",
       "        text-align: right;\n",
       "    }\n",
       "</style>\n",
       "<table border=\"1\" class=\"dataframe\">\n",
       "  <thead>\n",
       "    <tr style=\"text-align: right;\">\n",
       "      <th></th>\n",
       "      <th>Ano</th>\n",
       "      <th>Toneladas</th>\n",
       "      <th>Unidade da Federação</th>\n",
       "      <th>regiao</th>\n",
       "    </tr>\n",
       "  </thead>\n",
       "  <tbody>\n",
       "    <tr>\n",
       "      <th>0</th>\n",
       "      <td>1974.0</td>\n",
       "      <td>-</td>\n",
       "      <td>Rondônia</td>\n",
       "      <td>Norte</td>\n",
       "    </tr>\n",
       "    <tr>\n",
       "      <th>1</th>\n",
       "      <td>1975.0</td>\n",
       "      <td>-</td>\n",
       "      <td>Rondônia</td>\n",
       "      <td>Norte</td>\n",
       "    </tr>\n",
       "    <tr>\n",
       "      <th>2</th>\n",
       "      <td>1976.0</td>\n",
       "      <td>-</td>\n",
       "      <td>Rondônia</td>\n",
       "      <td>Norte</td>\n",
       "    </tr>\n",
       "    <tr>\n",
       "      <th>3</th>\n",
       "      <td>1977.0</td>\n",
       "      <td>-</td>\n",
       "      <td>Rondônia</td>\n",
       "      <td>Norte</td>\n",
       "    </tr>\n",
       "    <tr>\n",
       "      <th>4</th>\n",
       "      <td>1978.0</td>\n",
       "      <td>-</td>\n",
       "      <td>Rondônia</td>\n",
       "      <td>Norte</td>\n",
       "    </tr>\n",
       "    <tr>\n",
       "      <th>...</th>\n",
       "      <td>...</td>\n",
       "      <td>...</td>\n",
       "      <td>...</td>\n",
       "      <td>...</td>\n",
       "    </tr>\n",
       "    <tr>\n",
       "      <th>1264</th>\n",
       "      <td>2016.0</td>\n",
       "      <td>233888</td>\n",
       "      <td>Distrito Federal</td>\n",
       "      <td>Centro-Oeste</td>\n",
       "    </tr>\n",
       "    <tr>\n",
       "      <th>1265</th>\n",
       "      <td>2017.0</td>\n",
       "      <td>241500</td>\n",
       "      <td>Distrito Federal</td>\n",
       "      <td>Centro-Oeste</td>\n",
       "    </tr>\n",
       "    <tr>\n",
       "      <th>1266</th>\n",
       "      <td>2018.0</td>\n",
       "      <td>253110</td>\n",
       "      <td>Distrito Federal</td>\n",
       "      <td>Centro-Oeste</td>\n",
       "    </tr>\n",
       "    <tr>\n",
       "      <th>1267</th>\n",
       "      <td>2019.0</td>\n",
       "      <td>261000</td>\n",
       "      <td>Distrito Federal</td>\n",
       "      <td>Centro-Oeste</td>\n",
       "    </tr>\n",
       "    <tr>\n",
       "      <th>1268</th>\n",
       "      <td>2020.0</td>\n",
       "      <td>290550</td>\n",
       "      <td>Distrito Federal</td>\n",
       "      <td>Centro-Oeste</td>\n",
       "    </tr>\n",
       "  </tbody>\n",
       "</table>\n",
       "<p>1269 rows × 4 columns</p>\n",
       "</div>"
      ],
      "text/plain": [
       "         Ano Toneladas Unidade da Federação        regiao\n",
       "0     1974.0         -             Rondônia         Norte\n",
       "1     1975.0         -             Rondônia         Norte\n",
       "2     1976.0         -             Rondônia         Norte\n",
       "3     1977.0         -             Rondônia         Norte\n",
       "4     1978.0         -             Rondônia         Norte\n",
       "...      ...       ...                  ...           ...\n",
       "1264  2016.0    233888     Distrito Federal  Centro-Oeste\n",
       "1265  2017.0    241500     Distrito Federal  Centro-Oeste\n",
       "1266  2018.0    253110     Distrito Federal  Centro-Oeste\n",
       "1267  2019.0    261000     Distrito Federal  Centro-Oeste\n",
       "1268  2020.0    290550     Distrito Federal  Centro-Oeste\n",
       "\n",
       "[1269 rows x 4 columns]"
      ]
     },
     "execution_count": 10,
     "metadata": {},
     "output_type": "execute_result"
    }
   ],
   "source": [
    "df_unidade_federativa.dropna(inplace=True)\n",
    "df = df_unidade_federativa.merge(df_regiao, left_on='Unidade da Federação'\n",
    "                            , right_on='nome')[['Ano', 'Toneladas', 'Unidade da Federação','regiao']]"
   ]
  },
  {
   "cell_type": "code",
   "execution_count": 4,
   "id": "b089693e",
   "metadata": {},
   "outputs": [
    {
     "name": "stderr",
     "output_type": "stream",
     "text": [
      "22/05/30 02:12:44 WARN AbstractS3ACommitterFactory: Using standard FileOutputCommitter to commit work. This is slow and potentially unsafe.\n",
      "22/05/30 02:12:45 WARN AbstractS3ACommitterFactory: Using standard FileOutputCommitter to commit work. This is slow and potentially unsafe.\n",
      "22/05/30 02:12:45 WARN AbstractS3ACommitterFactory: Using standard FileOutputCommitter to commit work. This is slow and potentially unsafe.\n",
      "                                                                                \r"
     ]
    }
   ],
   "source": [
    "from pyspark.sql.functions import col\n",
    "from pyspark.sql.types import IntegerType, FloatType\n",
    "\n",
    "_df = spark.createDataFrame(df)\n",
    "\n",
    "_df = _df.select(\n",
    "    col('Ano').cast(IntegerType()).alias('ANO'),\n",
    "    col('Toneladas').cast(IntegerType()).alias('TONELADAS'),\n",
    "    col('Unidade da Federação').alias('UF'),\n",
    "    col('regiao').alias('REGIAO')\n",
    ")\n",
    "\n",
    "_df.write \\\n",
    "   .mode('overwrite') \\\n",
    "   .csv('s3a://daniel-3cco-poupay-poupay-bucket-estruturados/dados-tratados/brazil_soybean_regiao')"
   ]
  },
  {
   "cell_type": "code",
   "execution_count": 5,
   "id": "0781fa20",
   "metadata": {},
   "outputs": [],
   "source": [
    "dataframe = spark.read.csv(f\"{S3_address}/dados-tratados/brazil_soybean_regiao\")"
   ]
  },
  {
   "cell_type": "code",
   "execution_count": 6,
   "id": "d9d6d567",
   "metadata": {},
   "outputs": [],
   "source": [
    "dataframe = dataframe.withColumnRenamed(\"_c0\", \"Ano\")\n",
    "dataframe = dataframe.withColumnRenamed(\"_c1\", \"Toneladas\")\n",
    "dataframe = dataframe.withColumnRenamed(\"_c2\", \"UF\")\n",
    "dataframe = dataframe.withColumnRenamed(\"_c3\", \"Regiao\")\n",
    "dataframe_pandas = dataframe.toPandas()"
   ]
  },
  {
   "cell_type": "code",
   "execution_count": 7,
   "id": "57b7a49a",
   "metadata": {},
   "outputs": [],
   "source": [
    "dataframe_pandas = dataframe_pandas.fillna(0).astype({\"Toneladas\": int})"
   ]
  },
  {
   "cell_type": "code",
   "execution_count": 8,
   "id": "c856c730",
   "metadata": {},
   "outputs": [
    {
     "data": {
      "text/html": [
       "<div>\n",
       "<style scoped>\n",
       "    .dataframe tbody tr th:only-of-type {\n",
       "        vertical-align: middle;\n",
       "    }\n",
       "\n",
       "    .dataframe tbody tr th {\n",
       "        vertical-align: top;\n",
       "    }\n",
       "\n",
       "    .dataframe thead th {\n",
       "        text-align: right;\n",
       "    }\n",
       "</style>\n",
       "<table border=\"1\" class=\"dataframe\">\n",
       "  <thead>\n",
       "    <tr style=\"text-align: right;\">\n",
       "      <th></th>\n",
       "      <th>Ano</th>\n",
       "      <th>Toneladas</th>\n",
       "      <th>UF</th>\n",
       "      <th>Regiao</th>\n",
       "    </tr>\n",
       "  </thead>\n",
       "  <tbody>\n",
       "    <tr>\n",
       "      <th>447</th>\n",
       "      <td>1974</td>\n",
       "      <td>0</td>\n",
       "      <td>Mato Grosso do Sul</td>\n",
       "      <td>Centro-Oeste</td>\n",
       "    </tr>\n",
       "    <tr>\n",
       "      <th>494</th>\n",
       "      <td>1974</td>\n",
       "      <td>307010</td>\n",
       "      <td>Mato Grosso</td>\n",
       "      <td>Centro-Oeste</td>\n",
       "    </tr>\n",
       "    <tr>\n",
       "      <th>541</th>\n",
       "      <td>1974</td>\n",
       "      <td>99000</td>\n",
       "      <td>Goiás</td>\n",
       "      <td>Centro-Oeste</td>\n",
       "    </tr>\n",
       "    <tr>\n",
       "      <th>588</th>\n",
       "      <td>1974</td>\n",
       "      <td>23</td>\n",
       "      <td>Distrito Federal</td>\n",
       "      <td>Centro-Oeste</td>\n",
       "    </tr>\n",
       "  </tbody>\n",
       "</table>\n",
       "</div>"
      ],
      "text/plain": [
       "      Ano  Toneladas                  UF        Regiao\n",
       "447  1974          0  Mato Grosso do Sul  Centro-Oeste\n",
       "494  1974     307010         Mato Grosso  Centro-Oeste\n",
       "541  1974      99000               Goiás  Centro-Oeste\n",
       "588  1974         23    Distrito Federal  Centro-Oeste"
      ]
     },
     "execution_count": 8,
     "metadata": {},
     "output_type": "execute_result"
    }
   ],
   "source": [
    "dataframe_pandas[(dataframe_pandas['Regiao'] == 'Centro-Oeste') & (dataframe_pandas['Ano'] == '1974')]"
   ]
  },
  {
   "cell_type": "code",
   "execution_count": 9,
   "id": "34b107fa",
   "metadata": {
    "scrolled": false
   },
   "outputs": [],
   "source": [
    "sum_dataframe_groupby = dataframe_pandas.groupby(['Regiao','Ano']).sum().reset_index()"
   ]
  },
  {
   "cell_type": "code",
   "execution_count": 10,
   "id": "28aa2868",
   "metadata": {},
   "outputs": [
    {
     "data": {
      "text/html": [
       "<div>\n",
       "<style scoped>\n",
       "    .dataframe tbody tr th:only-of-type {\n",
       "        vertical-align: middle;\n",
       "    }\n",
       "\n",
       "    .dataframe tbody tr th {\n",
       "        vertical-align: top;\n",
       "    }\n",
       "\n",
       "    .dataframe thead th {\n",
       "        text-align: right;\n",
       "    }\n",
       "</style>\n",
       "<table border=\"1\" class=\"dataframe\">\n",
       "  <thead>\n",
       "    <tr style=\"text-align: right;\">\n",
       "      <th></th>\n",
       "      <th>Regiao</th>\n",
       "      <th>Ano</th>\n",
       "      <th>Toneladas</th>\n",
       "    </tr>\n",
       "  </thead>\n",
       "  <tbody>\n",
       "    <tr>\n",
       "      <th>0</th>\n",
       "      <td>Centro-Oeste</td>\n",
       "      <td>1974</td>\n",
       "      <td>406033</td>\n",
       "    </tr>\n",
       "    <tr>\n",
       "      <th>1</th>\n",
       "      <td>Centro-Oeste</td>\n",
       "      <td>1975</td>\n",
       "      <td>346016</td>\n",
       "    </tr>\n",
       "    <tr>\n",
       "      <th>2</th>\n",
       "      <td>Centro-Oeste</td>\n",
       "      <td>1976</td>\n",
       "      <td>339177</td>\n",
       "    </tr>\n",
       "    <tr>\n",
       "      <th>3</th>\n",
       "      <td>Centro-Oeste</td>\n",
       "      <td>1977</td>\n",
       "      <td>785011</td>\n",
       "    </tr>\n",
       "    <tr>\n",
       "      <th>4</th>\n",
       "      <td>Centro-Oeste</td>\n",
       "      <td>1978</td>\n",
       "      <td>579941</td>\n",
       "    </tr>\n",
       "    <tr>\n",
       "      <th>...</th>\n",
       "      <td>...</td>\n",
       "      <td>...</td>\n",
       "      <td>...</td>\n",
       "    </tr>\n",
       "    <tr>\n",
       "      <th>230</th>\n",
       "      <td>Sul</td>\n",
       "      <td>2016</td>\n",
       "      <td>35471797</td>\n",
       "    </tr>\n",
       "    <tr>\n",
       "      <th>231</th>\n",
       "      <td>Sul</td>\n",
       "      <td>2017</td>\n",
       "      <td>40373389</td>\n",
       "    </tr>\n",
       "    <tr>\n",
       "      <th>232</th>\n",
       "      <td>Sul</td>\n",
       "      <td>2018</td>\n",
       "      <td>38912491</td>\n",
       "    </tr>\n",
       "    <tr>\n",
       "      <th>233</th>\n",
       "      <td>Sul</td>\n",
       "      <td>2019</td>\n",
       "      <td>37116995</td>\n",
       "    </tr>\n",
       "    <tr>\n",
       "      <th>234</th>\n",
       "      <td>Sul</td>\n",
       "      <td>2020</td>\n",
       "      <td>34414464</td>\n",
       "    </tr>\n",
       "  </tbody>\n",
       "</table>\n",
       "<p>235 rows × 3 columns</p>\n",
       "</div>"
      ],
      "text/plain": [
       "           Regiao   Ano  Toneladas\n",
       "0    Centro-Oeste  1974     406033\n",
       "1    Centro-Oeste  1975     346016\n",
       "2    Centro-Oeste  1976     339177\n",
       "3    Centro-Oeste  1977     785011\n",
       "4    Centro-Oeste  1978     579941\n",
       "..            ...   ...        ...\n",
       "230           Sul  2016   35471797\n",
       "231           Sul  2017   40373389\n",
       "232           Sul  2018   38912491\n",
       "233           Sul  2019   37116995\n",
       "234           Sul  2020   34414464\n",
       "\n",
       "[235 rows x 3 columns]"
      ]
     },
     "execution_count": 10,
     "metadata": {},
     "output_type": "execute_result"
    }
   ],
   "source": [
    "sum_dataframe_groupby"
   ]
  },
  {
   "cell_type": "code",
   "execution_count": 13,
   "id": "54f57ba8",
   "metadata": {},
   "outputs": [
    {
     "name": "stderr",
     "output_type": "stream",
     "text": [
      "22/05/30 02:19:00 WARN AbstractS3ACommitterFactory: Using standard FileOutputCommitter to commit work. This is slow and potentially unsafe.\n",
      "22/05/30 02:19:00 WARN AbstractS3ACommitterFactory: Using standard FileOutputCommitter to commit work. This is slow and potentially unsafe.\n",
      "22/05/30 02:19:00 WARN AbstractS3ACommitterFactory: Using standard FileOutputCommitter to commit work. This is slow and potentially unsafe.\n",
      "                                                                                \r"
     ]
    }
   ],
   "source": [
    "from pyspark.sql.functions import col\n",
    "from pyspark.sql.types import IntegerType, FloatType\n",
    "\n",
    "_df = spark.createDataFrame(sum_dataframe_groupby)\n",
    "\n",
    "_df = _df.select(\n",
    "    col('Ano').cast(IntegerType()).alias('ANO'),\n",
    "    col('Toneladas').cast(IntegerType()).alias('TONELADAS'),\n",
    "    col('Regiao').alias('REGIAO')\n",
    ")\n",
    "\n",
    "_df.write \\\n",
    "   .mode('overwrite') \\\n",
    "   .csv(f'{S3_address}/dados-cliente/brazil_soybean_regiao')\n",
    "\n",
    "_df.write \\\n",
    " .format('com.microsoft.sqlserver.jdbc.spark') \\\n",
    " .mode('overwrite') \\\n",
    " .option('driver', 'com.microsoft.sqlserver.jdbc.SQLServerDriver') \\\n",
    " .option('url', 'jdbc:sqlserver://poupay-01.database.windows.net;databaseName=poupay;') \\\n",
    " .option('dbtable', 'REGIAO_SOJA') \\\n",
    " .option('user', user_sql) \\\n",
    " .option('password', password_sql) \\\n",
    " .save()"
   ]
  }
 ],
 "metadata": {
  "kernelspec": {
   "display_name": "Python 3 (ipykernel)",
   "language": "python",
   "name": "python3"
  },
  "language_info": {
   "codemirror_mode": {
    "name": "ipython",
    "version": 3
   },
   "file_extension": ".py",
   "mimetype": "text/x-python",
   "name": "python",
   "nbconvert_exporter": "python",
   "pygments_lexer": "ipython3",
   "version": "3.7.10"
  }
 },
 "nbformat": 4,
 "nbformat_minor": 5
}
