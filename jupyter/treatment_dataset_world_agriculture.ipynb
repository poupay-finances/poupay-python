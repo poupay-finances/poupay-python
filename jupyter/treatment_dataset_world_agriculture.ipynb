{
 "cells": [
  {
   "cell_type": "code",
   "execution_count": 1,
   "id": "d3abbe2c",
   "metadata": {
    "scrolled": true
   },
   "outputs": [
    {
     "name": "stdout",
     "output_type": "stream",
     "text": [
      "\u001b[33mWARNING: Running pip install with root privileges is generally not a good idea. Try `pip3 install --user` instead.\u001b[0m\n",
      "Requirement already satisfied: pandas in /usr/local/lib64/python3.7/site-packages (1.3.5)\n",
      "Requirement already satisfied: pytz>=2017.3 in /usr/local/lib/python3.7/site-packages (from pandas) (2022.1)\n",
      "Requirement already satisfied: python-dateutil>=2.7.3 in /usr/local/lib/python3.7/site-packages (from pandas) (2.8.2)\n",
      "Requirement already satisfied: numpy>=1.17.3; platform_machine != \"aarch64\" and platform_machine != \"arm64\" and python_version < \"3.10\" in /usr/local/lib64/python3.7/site-packages (from pandas) (1.21.6)\n",
      "Requirement already satisfied: six>=1.5 in /usr/local/lib/python3.7/site-packages (from python-dateutil>=2.7.3->pandas) (1.16.0)\n",
      "\u001b[33mWARNING: Running pip install with root privileges is generally not a good idea. Try `pip3 install --user` instead.\u001b[0m\n",
      "Requirement already satisfied: PyArrow in /usr/local/lib64/python3.7/site-packages (8.0.0)\n",
      "Requirement already satisfied: numpy>=1.16.6 in /usr/local/lib64/python3.7/site-packages (from PyArrow) (1.21.6)\n"
     ]
    }
   ],
   "source": [
    "!pip3 install pandas\n",
    "!pip3 install PyArrow "
   ]
  },
  {
   "cell_type": "code",
   "execution_count": 9,
   "id": "ff982d41",
   "metadata": {
    "scrolled": true
   },
   "outputs": [
    {
     "name": "stdout",
     "output_type": "stream",
     "text": [
      "env: S3ADRESS=s3a://daniel-3cco-poupay-poupay-bucket-estruturados\n",
      "env: PASSWORD_SQL=PASSWORD\n",
      "env: USER_SQL=USER\n"
     ]
    }
   ],
   "source": [
    "%env S3ADRESS=url\n",
    "%env PASSWORD_SQL=PASSWORD\n",
    "%env USER_SQL=USER"
   ]
  },
  {
   "cell_type": "code",
   "execution_count": 10,
   "id": "8312fece",
   "metadata": {},
   "outputs": [],
   "source": [
    "import os\n",
    "\n",
    "S3_address = os.environ['S3ADRESS']\n",
    "password_sql = os.environ['PASSWORD_SQL']\n",
    "user_sql = os.environ['USER_SQL']"
   ]
  },
  {
   "cell_type": "code",
   "execution_count": 12,
   "id": "cccee147",
   "metadata": {
    "scrolled": false
   },
   "outputs": [
    {
     "name": "stderr",
     "output_type": "stream",
     "text": [
      "WARNING:root:'PYARROW_IGNORE_TIMEZONE' environment variable was not set. It is required to set this environment variable to '1' in both driver and executor sides if you use pyarrow>=2.0.0. pandas-on-Spark will set it for you but it does not work if there is a Spark context already launched.\n",
      "WARNING: An illegal reflective access operation has occurred\n",
      "WARNING: Illegal reflective access by org.apache.spark.unsafe.Platform (file:/usr/local/lib/python3.7/site-packages/pyspark/jars/spark-unsafe_2.12-3.2.1.jar) to constructor java.nio.DirectByteBuffer(long,int)\n",
      "WARNING: Please consider reporting this to the maintainers of org.apache.spark.unsafe.Platform\n",
      "WARNING: Use --illegal-access=warn to enable warnings of further illegal reflective access operations\n",
      "WARNING: All illegal access operations will be denied in a future release\n"
     ]
    },
    {
     "name": "stdout",
     "output_type": "stream",
     "text": [
      ":: loading settings :: url = jar:file:/usr/local/lib/python3.7/site-packages/pyspark/jars/ivy-2.5.0.jar!/org/apache/ivy/core/settings/ivysettings.xml\n"
     ]
    },
    {
     "name": "stderr",
     "output_type": "stream",
     "text": [
      "Ivy Default Cache set to: /root/.ivy2/cache\n",
      "The jars for the packages stored in: /root/.ivy2/jars\n",
      "org.apache.hadoop#hadoop-aws added as a dependency\n",
      "com.microsoft.azure#spark-mssql-connector_2.12 added as a dependency\n",
      ":: resolving dependencies :: org.apache.spark#spark-submit-parent-bd0dc99f-27d7-4c61-a74e-b24b01c38dc2;1.0\n",
      "\tconfs: [default]\n",
      "\tfound org.apache.hadoop#hadoop-aws;3.2.2 in central\n",
      "\tfound com.amazonaws#aws-java-sdk-bundle;1.11.563 in central\n",
      "\tfound com.microsoft.azure#spark-mssql-connector_2.12;1.2.0 in central\n",
      "\tfound com.microsoft.sqlserver#mssql-jdbc;8.4.1.jre8 in central\n",
      ":: resolution report :: resolve 553ms :: artifacts dl 13ms\n",
      "\t:: modules in use:\n",
      "\tcom.amazonaws#aws-java-sdk-bundle;1.11.563 from central in [default]\n",
      "\tcom.microsoft.azure#spark-mssql-connector_2.12;1.2.0 from central in [default]\n",
      "\tcom.microsoft.sqlserver#mssql-jdbc;8.4.1.jre8 from central in [default]\n",
      "\torg.apache.hadoop#hadoop-aws;3.2.2 from central in [default]\n",
      "\t---------------------------------------------------------------------\n",
      "\t|                  |            modules            ||   artifacts   |\n",
      "\t|       conf       | number| search|dwnlded|evicted|| number|dwnlded|\n",
      "\t---------------------------------------------------------------------\n",
      "\t|      default     |   4   |   0   |   0   |   0   ||   4   |   0   |\n",
      "\t---------------------------------------------------------------------\n",
      ":: retrieving :: org.apache.spark#spark-submit-parent-bd0dc99f-27d7-4c61-a74e-b24b01c38dc2\n",
      "\tconfs: [default]\n",
      "\t0 artifacts copied, 4 already retrieved (0kB/8ms)\n",
      "22/05/31 00:41:50 WARN NativeCodeLoader: Unable to load native-hadoop library for your platform... using builtin-java classes where applicable\n",
      "Using Spark's default log4j profile: org/apache/spark/log4j-defaults.properties\n",
      "Setting default log level to \"WARN\".\n",
      "To adjust logging level use sc.setLogLevel(newLevel). For SparkR, use setLogLevel(newLevel).\n"
     ]
    }
   ],
   "source": [
    "#iniciar spark\n",
    "from pyspark import SparkConf\n",
    "from pyspark.sql import SparkSession\n",
    "import pyspark.pandas as ps\n",
    "\n",
    "conf = SparkConf()\n",
    "#conf.set('spark.jars.packages', 'org.apache.hadoop:hadoop-aws:3.2.2')\n",
    "conf.set('spark.jars.packages', 'org.apache.hadoop:hadoop-aws:3.2.2,com.microsoft.azure:spark-mssql-connector_2.12:1.2.0')\n",
    "conf.set('spark.hadoop.fs.s3a.aws.credentials.provider', 'com.amazonaws.auth.InstanceProfileCredentialsProvider')\n",
    "spark = SparkSession.builder.config(conf=conf).config(\"spark.driver.memory\", \"15g\").getOrCreate()"
   ]
  },
  {
   "cell_type": "code",
   "execution_count": 14,
   "id": "65b46096",
   "metadata": {
    "scrolled": true
   },
   "outputs": [
    {
     "name": "stderr",
     "output_type": "stream",
     "text": [
      "\r",
      "[Stage 0:>                                                          (0 + 1) / 1]\r",
      "\r",
      "                                                                                \r"
     ]
    }
   ],
   "source": [
    "df = spark.read.option('delimiter', ',')\\\n",
    "    .option('header', 'true')\\\n",
    "    .csv(f'{S3_address}/dados-brutos/Value_of_Production_E_All_Data_(Normalized).csv')"
   ]
  },
  {
   "cell_type": "code",
   "execution_count": 15,
   "id": "d1dc81a4",
   "metadata": {},
   "outputs": [
    {
     "name": "stdout",
     "output_type": "stream",
     "text": [
      "+---------+-----------+---------+-------------------+------------+--------------------+---------+----+-----------+------------+----+\n",
      "|Area Code|       Area|Item Code|               Item|Element Code|             Element|Year Code|Year|       Unit|       Value|Flag|\n",
      "+---------+-----------+---------+-------------------+------------+--------------------+---------+----+-----------+------------+----+\n",
      "|        2|Afghanistan|      221|Almonds, with shell|         152|Gross Production ...|     1976|1976|1000 Int. $|49550.000000|  Fc|\n",
      "|        2|Afghanistan|      221|Almonds, with shell|         152|Gross Production ...|     1977|1977|1000 Int. $|45505.000000|  Fc|\n",
      "|        2|Afghanistan|      221|Almonds, with shell|         152|Gross Production ...|     1978|1978|1000 Int. $|60673.000000|  Fc|\n",
      "|        2|Afghanistan|      221|Almonds, with shell|         152|Gross Production ...|     1979|1979|1000 Int. $|53089.000000|  Fc|\n",
      "|        2|Afghanistan|      221|Almonds, with shell|         152|Gross Production ...|     1980|1980|1000 Int. $|50055.000000|  Fc|\n",
      "|        2|Afghanistan|      221|Almonds, with shell|         152|Gross Production ...|     1981|1981|1000 Int. $|40449.000000|  Fc|\n",
      "|        2|Afghanistan|      221|Almonds, with shell|         152|Gross Production ...|     1982|1982|1000 Int. $|55617.000000|  Fc|\n",
      "|        2|Afghanistan|      221|Almonds, with shell|         152|Gross Production ...|     1983|1983|1000 Int. $|49044.000000|  Fc|\n",
      "|        2|Afghanistan|      221|Almonds, with shell|         152|Gross Production ...|     1984|1984|1000 Int. $|53089.000000|  Fc|\n",
      "|        2|Afghanistan|      221|Almonds, with shell|         152|Gross Production ...|     1985|1985|1000 Int. $|45505.000000|  Fc|\n",
      "|        2|Afghanistan|      221|Almonds, with shell|         152|Gross Production ...|     1986|1986|1000 Int. $|50561.000000|  Fc|\n",
      "|        2|Afghanistan|      221|Almonds, with shell|         152|Gross Production ...|     1987|1987|1000 Int. $|45505.000000|  Fc|\n",
      "|        2|Afghanistan|      221|Almonds, with shell|         152|Gross Production ...|     1988|1988|1000 Int. $|45505.000000|  Fc|\n",
      "|        2|Afghanistan|      221|Almonds, with shell|         152|Gross Production ...|     1989|1989|1000 Int. $|44494.000000|  Fc|\n",
      "|        2|Afghanistan|      221|Almonds, with shell|         152|Gross Production ...|     1990|1990|1000 Int. $|48033.000000|  Fc|\n",
      "|        2|Afghanistan|      221|Almonds, with shell|         152|Gross Production ...|     1991|1991|1000 Int. $|45505.000000|  Fc|\n",
      "|        2|Afghanistan|      221|Almonds, with shell|         152|Gross Production ...|     1992|1992|1000 Int. $|50055.000000|  Fc|\n",
      "|        2|Afghanistan|      221|Almonds, with shell|         152|Gross Production ...|     1993|1993|1000 Int. $|45505.000000|  Fc|\n",
      "|        2|Afghanistan|      221|Almonds, with shell|         152|Gross Production ...|     1994|1994|1000 Int. $|45505.000000|  Fc|\n",
      "|        2|Afghanistan|      221|Almonds, with shell|         152|Gross Production ...|     1995|1995|1000 Int. $|45505.000000|  Fc|\n",
      "+---------+-----------+---------+-------------------+------------+--------------------+---------+----+-----------+------------+----+\n",
      "only showing top 20 rows\n",
      "\n"
     ]
    }
   ],
   "source": [
    "df.show()"
   ]
  },
  {
   "cell_type": "code",
   "execution_count": 16,
   "id": "57cdc30d",
   "metadata": {},
   "outputs": [
    {
     "name": "stderr",
     "output_type": "stream",
     "text": [
      "                                                                                \r"
     ]
    }
   ],
   "source": [
    "dataframe_brazil = df.filter(df.Area == 'Brazil').toPandas()"
   ]
  },
  {
   "cell_type": "code",
   "execution_count": 17,
   "id": "51dfc6e1",
   "metadata": {},
   "outputs": [],
   "source": [
    "dataframe_brazil.loc[dataframe_brazil['Item'] == 'Meat, cattle','Item'] = 'Carne, Gado'\n",
    "dataframe_brazil.loc[dataframe_brazil['Item'] == 'Soybeans','Item'] = 'Soja'\n",
    "dataframe_brazil = dataframe_brazil[dataframe_brazil['Item'].isin(['Carne, Gado','Soja'])]"
   ]
  },
  {
   "cell_type": "code",
   "execution_count": 18,
   "id": "ca9153ee",
   "metadata": {},
   "outputs": [
    {
     "name": "stderr",
     "output_type": "stream",
     "text": [
      "22/05/31 00:43:16 WARN AbstractS3ACommitterFactory: Using standard FileOutputCommitter to commit work. This is slow and potentially unsafe.\n",
      "22/05/31 00:43:17 WARN AbstractS3ACommitterFactory: Using standard FileOutputCommitter to commit work. This is slow and potentially unsafe.\n",
      "22/05/31 00:43:17 WARN AbstractS3ACommitterFactory: Using standard FileOutputCommitter to commit work. This is slow and potentially unsafe.\n",
      "                                                                                \r"
     ]
    }
   ],
   "source": [
    "from pyspark.sql.functions import col\n",
    "from pyspark.sql.types import IntegerType, FloatType\n",
    "\n",
    "dataframe_brazil_pyspark = spark.createDataFrame(dataframe_brazil[['Area','Item','Year','Value']])\n",
    "_df = dataframe_brazil_pyspark.select(\n",
    "    col('Area').alias('AREA'),\n",
    "    col('Item').alias('ITEM'),\n",
    "    col('Year').cast(IntegerType()).alias('YEAR'),\n",
    "    col('Value').cast(FloatType()).alias('VALUE')\n",
    ")\n",
    "\n",
    "_df.write \\\n",
    "   .mode('overwrite') \\\n",
    "   .csv(f'{S3_address}/dados-tratados/brazil_tratados_from_world_agriculture')"
   ]
  },
  {
   "cell_type": "code",
   "execution_count": 12,
   "id": "e0edbaba",
   "metadata": {},
   "outputs": [],
   "source": [
    "dataframe = spark.read\\\n",
    "            .csv(f\"{S3_address}/dados-tratados/brazil_tratados_from_world_agriculture\")"
   ]
  },
  {
   "cell_type": "code",
   "execution_count": 14,
   "id": "ce382804",
   "metadata": {},
   "outputs": [
    {
     "name": "stdout",
     "output_type": "stream",
     "text": [
      "+------+-------+----+---------+\n",
      "|Regiao|Produto| Ano|  valor $|\n",
      "+------+-------+----+---------+\n",
      "|Brazil|   Soja|1961| 103834.0|\n",
      "|Brazil|   Soja|1962| 132017.0|\n",
      "|Brazil|   Soja|1963| 123503.0|\n",
      "|Brazil|   Soja|1964| 116612.0|\n",
      "|Brazil|   Soja|1965| 200096.0|\n",
      "|Brazil|   Soja|1966| 227557.0|\n",
      "|Brazil|   Soja|1967| 273694.0|\n",
      "|Brazil|   Soja|1968| 250314.0|\n",
      "|Brazil|   Soja|1969| 404114.0|\n",
      "|Brazil|   Soja|1970| 576963.0|\n",
      "|Brazil|   Soja|1971| 794490.0|\n",
      "|Brazil|   Soja|1972|1232541.0|\n",
      "|Brazil|   Soja|1973|1916763.0|\n",
      "|Brazil|   Soja|1974|3012490.0|\n",
      "|Brazil|   Soja|1975|3783722.0|\n",
      "|Brazil|   Soja|1976|4293973.0|\n",
      "|Brazil|   Soja|1977|4785931.0|\n",
      "|Brazil|   Soja|1978|3648930.0|\n",
      "|Brazil|   Soja|1979|3916551.0|\n",
      "|Brazil|   Soja|1980|5796554.0|\n",
      "+------+-------+----+---------+\n",
      "only showing top 20 rows\n",
      "\n"
     ]
    }
   ],
   "source": [
    "dataframe = dataframe.withColumnRenamed(\"_c0\", \"Regiao\")\n",
    "dataframe = dataframe.withColumnRenamed(\"_c1\", \"Produto\")\n",
    "dataframe = dataframe.withColumnRenamed(\"_c2\", \"Ano\")\n",
    "dataframe = dataframe.withColumnRenamed(\"_c3\", \"valor $\")\n",
    "dataframe.filter(col(\"Produto\") == \"Soja\").show()"
   ]
  },
  {
   "cell_type": "code",
   "execution_count": 15,
   "id": "8592280d",
   "metadata": {},
   "outputs": [
    {
     "data": {
      "text/plain": [
       "DataFrame[regiao: string, valor: decimal(10,3), produto: string, ano: int]"
      ]
     },
     "execution_count": 15,
     "metadata": {},
     "output_type": "execute_result"
    }
   ],
   "source": [
    "from pyspark.sql.functions import col\n",
    "from pyspark.sql.types import DecimalType\n",
    "\n",
    "_df = dataframe.select(\n",
    "    col('Regiao').alias('regiao'),\n",
    "    col('valor $').cast(DecimalType(10,3)).alias('valor'),\n",
    "    col('produto').alias('produto'),\n",
    "    col('ano').cast(IntegerType()).alias('ano')\n",
    ")\n",
    "_df\n",
    "_df.write \\\n",
    "   .mode('overwrite') \\\n",
    "   .csv(f'{S3_address}/dados-clientes/brazil_tratados_from_world_agriculture')\n",
    "\n",
    "_df.write \\\n",
    " .format('com.microsoft.sqlserver.jdbc.spark') \\\n",
    " .mode('overwrite') \\\n",
    " .option('driver', 'com.microsoft.sqlserver.jdbc.SQLServerDriver') \\\n",
    " .option('url', 'jdbc:sqlserver://poupay-grupo05.database.windows.net;databaseName=poupay;') \\\n",
    " .option('dbtable', 'tblSoybeanData') \\\n",
    " .option('user', user_sql ) \\\n",
    " .option('password', password_sql) \\\n",
    " .save()"
   ]
  }
 ],
 "metadata": {
  "kernelspec": {
   "display_name": "Python 3 (ipykernel)",
   "language": "python",
   "name": "python3"
  },
  "language_info": {
   "codemirror_mode": {
    "name": "ipython",
    "version": 3
   },
   "file_extension": ".py",
   "mimetype": "text/x-python",
   "name": "python",
   "nbconvert_exporter": "python",
   "pygments_lexer": "ipython3",
   "version": "3.7.10"
  }
 },
 "nbformat": 4,
 "nbformat_minor": 5
}
