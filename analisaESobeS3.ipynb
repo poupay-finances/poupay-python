{
 "cells": [
  {
   "cell_type": "code",
   "execution_count": 1,
   "id": "83aac82e",
   "metadata": {},
   "outputs": [
    {
     "name": "stdout",
     "output_type": "stream",
     "text": [
      "\u001b[33mWARNING: Running pip install with root privileges is generally not a good idea. Try `pip3 install --user` instead.\u001b[0m\n",
      "Requirement already satisfied: boto3 in /usr/local/lib/python3.7/site-packages (1.23.9)\n",
      "Requirement already satisfied: s3transfer<0.6.0,>=0.5.0 in /usr/local/lib/python3.7/site-packages (from boto3) (0.5.2)\n",
      "Requirement already satisfied: jmespath<2.0.0,>=0.7.1 in /usr/local/lib/python3.7/site-packages (from boto3) (1.0.0)\n",
      "Requirement already satisfied: botocore<1.27.0,>=1.26.9 in /usr/local/lib/python3.7/site-packages (from boto3) (1.26.10)\n",
      "Requirement already satisfied: python-dateutil<3.0.0,>=2.1 in /usr/local/lib/python3.7/site-packages (from botocore<1.27.0,>=1.26.9->boto3) (2.8.2)\n",
      "Requirement already satisfied: urllib3<1.27,>=1.25.4 in /usr/local/lib/python3.7/site-packages (from botocore<1.27.0,>=1.26.9->boto3) (1.26.9)\n",
      "Requirement already satisfied: six>=1.5 in /usr/local/lib/python3.7/site-packages (from python-dateutil<3.0.0,>=2.1->botocore<1.27.0,>=1.26.9->boto3) (1.16.0)\n"
     ]
    }
   ],
   "source": [
    "!pip3 install boto3"
   ]
  },
  {
   "cell_type": "code",
   "execution_count": 2,
   "id": "00b47846",
   "metadata": {},
   "outputs": [],
   "source": [
    "import boto3\n",
    "import os\n",
    "\n",
    "# Let's use Amazon S3\n",
    "s3 = boto3.resource('s3')"
   ]
  },
  {
   "cell_type": "code",
   "execution_count": 3,
   "id": "891b1e39",
   "metadata": {},
   "outputs": [
    {
     "name": "stdout",
     "output_type": "stream",
     "text": [
      "baldao-marise\n",
      "balde-3-douglas-douglasbalde-bucket-bruto\n",
      "balde-3-douglas-douglasbalde-bucket-cliente\n",
      "balde-3-douglas-douglasbalde-bucket-tratados\n",
      "cf-templates-1bpcezmzan61s-us-east-1\n"
     ]
    }
   ],
   "source": [
    "for bucket in s3.buckets.all():\n",
    "    print(bucket.name)"
   ]
  },
  {
   "cell_type": "code",
   "execution_count": 4,
   "id": "2631014d",
   "metadata": {},
   "outputs": [],
   "source": [
    "def salvarArquivo(data, nomeArquivo):\n",
    "    s3.Bucket('balde-3-douglas-douglasbalde-bucket-bruto').put_object(Key=nomeArquivo, Body=data)"
   ]
  },
  {
   "cell_type": "code",
   "execution_count": 5,
   "id": "e31fa781",
   "metadata": {},
   "outputs": [],
   "source": [
    "extensaoSuportada = [\"csv\", \"txt\", \"json\"]"
   ]
  },
  {
   "cell_type": "code",
   "execution_count": 6,
   "id": "15436157",
   "metadata": {},
   "outputs": [],
   "source": [
    "numeros = \"0123456789\"\n",
    "floats = \".,\""
   ]
  },
  {
   "cell_type": "code",
   "execution_count": 7,
   "id": "c9b5495f",
   "metadata": {},
   "outputs": [],
   "source": [
    "separadoresDeData = \"/.-\""
   ]
  },
  {
   "cell_type": "code",
   "execution_count": 8,
   "id": "e81de705",
   "metadata": {},
   "outputs": [],
   "source": [
    "def eUmaData(valor):\n",
    "    if not sum((1 for x in separadoresDeData if valor.count(x) in [1,2])) == 1:\n",
    "        return False\n",
    "    if sum((1 for x in numeros if x in valor)) == 0:\n",
    "        return False\n",
    "    for caracter in valor:\n",
    "        if not caracter in numeros:\n",
    "            if not caracter in separadoresDeData:\n",
    "                return False\n",
    "    return True"
   ]
  },
  {
   "cell_type": "code",
   "execution_count": 9,
   "id": "0d3b351c",
   "metadata": {},
   "outputs": [],
   "source": [
    "def eUmNumero(valor):\n",
    "    if not sum((1 for x in floats if valor.count(x) in [0,1])) in [2]:\n",
    "        return False\n",
    "    if sum((1 for x in numeros if x in valor)) == 0:\n",
    "        return False\n",
    "    for caracter in valor:\n",
    "        if not caracter in numeros:\n",
    "            if not caracter in floats:\n",
    "                return False\n",
    "    return True"
   ]
  },
  {
   "cell_type": "code",
   "execution_count": 10,
   "id": "c89cd443",
   "metadata": {},
   "outputs": [],
   "source": [
    "def analisador(extensao, data, nomeArquivo):\n",
    "    if extensao in extensaoSuportada[0:1]:\n",
    "        analisadorCsvTxt(data)\n",
    "    salvarArquivo(data, path)"
   ]
  },
  {
   "cell_type": "code",
   "execution_count": 11,
   "id": "4acb75dc",
   "metadata": {},
   "outputs": [],
   "source": [
    "def analisadorCsvTxt(data):\n",
    "    separador = input(\"informe o separador do csv ou txt :\")\n",
    "    descricaoCampos = data.readline()\n",
    "    while not descricaoCampos.count(separador):\n",
    "        separador = input(\"não foi encontrado esse separador informe outro ou digite VOLTAR para escolher outro arquivo :\")\n",
    "        if separador == \"QUIT\":\n",
    "            return False\n",
    "    descricaoCampos = descricaoCampos.replace(\"\\n\", '').split(separador)\n",
    "    tipoCampos = []\n",
    "    for index, linha in enumerate(data, start=1):\n",
    "        linha = linha.replace(\"\\\"\", '')\n",
    "        linha = linha.replace(\"\\n\", '')\n",
    "        linha = linha.replace(\"-\", '0')\n",
    "        valores = linha.split(separador)\n",
    "        verificaTamanhoCsvTxt(len(valores), index, len(descricaoCampos))\n",
    "        if not len(tipoCampos) == len(descricaoCampos): \n",
    "            for valor in valores:\n",
    "                if eUmNumero(valor):\n",
    "                    tipoCampos.append(\"Numero\")\n",
    "                elif eUmaData(valor):\n",
    "                    tipoCampos.append(\"Data\")\n",
    "                else:\n",
    "                    tipoCampos.append(\"Descritivo\")\n",
    "        else:\n",
    "            for i, valor in enumerate(valores):\n",
    "                if not tipoCampos[i] == \"Descritivo\":\n",
    "                    if tipoCampos[i] == \"Numero\":\n",
    "                        if not eUmNumero(valor):\n",
    "                            raise Exception(\"formato de dados invalido, erro linha {0}, {1} não é {2}\".format(index, valor, tipoCampos[i]))\n",
    "                    elif tipoCampos[i] == \"Data\":\n",
    "                         if not eUmaData(valor):\n",
    "                            raise Exception(\"formato de dados invalido, erro linha {0}, {1} não é {2}\".format(index, valor, tipoCampos[i]))\n",
    "    print(\"Formatos identificados\")\n",
    "    for i, x in enumerate(descricaoCampos):  \n",
    "        print(\"<{0}:{1}>\".format(x, tipoCampos[i]))\n",
    "                            "
   ]
  },
  {
   "cell_type": "code",
   "execution_count": 12,
   "id": "0ef09c3d",
   "metadata": {},
   "outputs": [],
   "source": [
    "def verificaTamanhoCsvTxt(tamanhoLinha, index, tamanho):\n",
    "    if not tamanhoLinha == tamanho:\n",
    "        raise Exception(\"quantidades de dados invalido, erro linha {0}\".format(index))"
   ]
  },
  {
   "cell_type": "code",
   "execution_count": null,
   "id": "50593426",
   "metadata": {},
   "outputs": [
    {
     "name": "stdout",
     "output_type": "stream",
     "text": [
      "Que tipo de arquivo gostaria de subir ao bucket? :csv\n",
      "Qual o nome do arquivo gostaria de subir ao bucket(sem a extensão)? :tabela 234\n",
      "informe o separador do csv ou txt :;\n",
      "Formatos identificados\n",
      "<﻿Grande Região:Descritivo>\n",
      "<Ano:Numero>\n",
      "<Toneladas:Descritivo>\n"
     ]
    }
   ],
   "source": [
    "extensao = input(\"Que tipo de arquivo gostaria de subir ao bucket? :\")\n",
    "while extensao:\n",
    "    if extensao in extensaoSuportada:\n",
    "        nomeArquivo = input(\"Qual o nome do arquivo gostaria de subir ao bucket(sem a extensão)? :\") \n",
    "        path = \"{0}.{1}\".format(nomeArquivo, extensao)\n",
    "        if os.path.exists(path): \n",
    "            data = open(path, 'r')\n",
    "            analisador(extensao, data, path)\n",
    "            data.close()\n",
    "        else:\n",
    "            print(\"Arquivo não existe ou não foi encontrado\")\n",
    "    else:\n",
    "        print(\"Extensão não suportada\")\n",
    "    extensao = input(\"Que tipo de arquivo gostaria de subir ao bucket? :\")\n",
    "print(\"Finalizando, até mais!\")\n"
   ]
  },
  {
   "cell_type": "code",
   "execution_count": null,
   "id": "f43ac084",
   "metadata": {},
   "outputs": [],
   "source": [
    "vendas_anuais"
   ]
  }
 ],
 "metadata": {
  "kernelspec": {
   "display_name": "Python 3 (ipykernel)",
   "language": "python",
   "name": "python3"
  },
  "language_info": {
   "codemirror_mode": {
    "name": "ipython",
    "version": 3
   },
   "file_extension": ".py",
   "mimetype": "text/x-python",
   "name": "python",
   "nbconvert_exporter": "python",
   "pygments_lexer": "ipython3",
   "version": "3.7.10"
  }
 },
 "nbformat": 4,
 "nbformat_minor": 5
}
